{
 "cells": [
  {
   "cell_type": "code",
   "execution_count": 22,
   "id": "biblical-introduction",
   "metadata": {},
   "outputs": [],
   "source": [
    "import torch\n",
    "from torch import Tensor\n",
    "import torch.nn.functional as f"
   ]
  },
  {
   "cell_type": "code",
   "execution_count": 32,
   "id": "meaningful-arbor",
   "metadata": {},
   "outputs": [],
   "source": [
    "def scaled_dot_product_attention(query,key,value):\n",
    "    attention = torch.bmm(query,key.transpose(1,2))\n",
    "    scale = query.size(-1) ** 0.5\n",
    "    softmax = f.softmax(attention / scale, dim=-1)\n",
    "    return softmax.bmm(value)    "
   ]
  },
  {
   "cell_type": "code",
   "execution_count": 33,
   "id": "hydraulic-pursuit",
   "metadata": {},
   "outputs": [],
   "source": [
    "batch_size = 16\n",
    "sequence_length = 10\n",
    "num_features = 64"
   ]
  },
  {
   "cell_type": "code",
   "execution_count": 34,
   "id": "superior-ivory",
   "metadata": {},
   "outputs": [],
   "source": [
    "query = torch.rand(batch_size, sequence_length,num_features)\n",
    "key = torch.rand(batch_size, sequence_length,num_features)\n",
    "value = torch.rand(batch_size, sequence_length,num_features)"
   ]
  },
  {
   "cell_type": "code",
   "execution_count": 36,
   "id": "separated-jonathan",
   "metadata": {},
   "outputs": [
    {
     "data": {
      "text/plain": [
       "torch.Size([16, 10, 64])"
      ]
     },
     "execution_count": 36,
     "metadata": {},
     "output_type": "execute_result"
    }
   ],
   "source": [
    "scaled_dot_product_attention(query,key,value)"
   ]
  },
  {
   "cell_type": "code",
   "execution_count": null,
   "id": "impressed-terrace",
   "metadata": {},
   "outputs": [],
   "source": []
  }
 ],
 "metadata": {
  "kernelspec": {
   "display_name": "Python 3",
   "language": "python",
   "name": "python3"
  },
  "language_info": {
   "codemirror_mode": {
    "name": "ipython",
    "version": 3
   },
   "file_extension": ".py",
   "mimetype": "text/x-python",
   "name": "python",
   "nbconvert_exporter": "python",
   "pygments_lexer": "ipython3",
   "version": "3.6.9"
  }
 },
 "nbformat": 4,
 "nbformat_minor": 5
}
